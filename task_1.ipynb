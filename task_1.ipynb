{
  "nbformat": 4,
  "nbformat_minor": 0,
  "metadata": {
    "colab": {
      "provenance": [],
      "include_colab_link": true
    },
    "kernelspec": {
      "name": "python3",
      "display_name": "Python 3"
    },
    "language_info": {
      "name": "python"
    }
  },
  "cells": [
    {
      "cell_type": "markdown",
      "metadata": {
        "id": "view-in-github",
        "colab_type": "text"
      },
      "source": [
        "<a href=\"https://colab.research.google.com/github/yusef-atef/Assignment-Team-2/blob/main/task_1.ipynb\" target=\"_parent\"><img src=\"https://colab.research.google.com/assets/colab-badge.svg\" alt=\"Open In Colab\"/></a>"
      ]
    },
    {
      "cell_type": "code",
      "execution_count": null,
      "metadata": {
        "colab": {
          "base_uri": "https://localhost:8080/"
        },
        "id": "XwLvhW3zFC8L",
        "outputId": "1fb6464e-16d7-4c64-d803-83b62df34b63"
      },
      "outputs": [
        {
          "output_type": "stream",
          "name": "stdout",
          "text": [
            "Hello World Hussein Waleed\n"
          ]
        }
      ],
      "source": [
        "print('Hello World Hussein Waleed')"
      ]
    },
    {
      "cell_type": "code",
      "source": [
        "print('Hello World Yusef Atef Ahmed')"
      ],
      "metadata": {
        "id": "DMZ7N3vCFLIK",
        "outputId": "7e11b067-75a2-470b-f57e-72a7288f977c",
        "colab": {
          "base_uri": "https://localhost:8080/"
        }
      },
      "execution_count": 2,
      "outputs": [
        {
          "output_type": "stream",
          "name": "stdout",
          "text": [
            "Hello World Yusef Atef Ahmed\n"
          ]
        }
      ]
    }
  ]
}